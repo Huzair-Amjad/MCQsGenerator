{
 "cells": [
  {
   "cell_type": "code",
   "execution_count": 8,
   "metadata": {},
   "outputs": [],
   "source": [
    "import os\n",
    "import json\n",
    "import pandas as pd\n",
    "import traceback\n",
    "\n",
    "from langchain_openai import ChatOpenAI\n",
    "from dotenv import load_dotenv\n",
    "from langchain.llms import OpenAI\n",
    "from langchain.prompts import PromptTemplate\n",
    "from langchain.chains import LLMChain, SequentialChain\n",
    "from langchain.callbacks import get_openai_callback\n",
    "\n",
    "import PyPDF2"
   ]
  },
  {
   "cell_type": "code",
   "execution_count": 9,
   "metadata": {},
   "outputs": [
    {
     "data": {
      "text/plain": [
       "True"
      ]
     },
     "execution_count": 9,
     "metadata": {},
     "output_type": "execute_result"
    }
   ],
   "source": [
    "load_dotenv() #take environment variables from .env"
   ]
  },
  {
   "cell_type": "code",
   "execution_count": 10,
   "metadata": {},
   "outputs": [],
   "source": [
    "KEY = os.getenv(\"OPENAI_API_KEY\")"
   ]
  },
  {
   "cell_type": "code",
   "execution_count": 11,
   "metadata": {},
   "outputs": [],
   "source": [
    "llm = ChatOpenAI(openai_api_key = KEY, model_name = 'gpt-3.5-turbo', temperature = 0.3)\n"
   ]
  },
  {
   "cell_type": "code",
   "execution_count": 12,
   "metadata": {},
   "outputs": [],
   "source": [
    "#Defining Format for response/output of quiz generation\n",
    "\n",
    "RESPONSE_JSON = {\n",
    "    \"1\": {\n",
    "        \"mcq\": \"multiple choice question\",\n",
    "        \"options\": {\n",
    "            \"a\": \"choice here\",\n",
    "            \"b\": \"choice here\",\n",
    "            \"c\": \"choice here\",\n",
    "            \"d\": \"choice here\",\n",
    "        },\n",
    "        \"correct\": \"correct answer\",\n",
    "    },\n",
    "    \"2\": {\n",
    "        \"mcq\": \"multiple choice question\",\n",
    "        \"options\": {\n",
    "            \"a\": \"choice here\",\n",
    "            \"b\": \"choice here\",\n",
    "            \"c\": \"choice here\",\n",
    "            \"d\": \"choice here\",\n",
    "        },\n",
    "        \"correct\": \"correct answer\",\n",
    "    },\n",
    "    \"3\": {\n",
    "        \"mcq\": \"multiple choice question\",\n",
    "        \"options\": {\n",
    "            \"a\": \"choice here\",\n",
    "            \"b\": \"choice here\",\n",
    "            \"c\": \"choice here\",\n",
    "            \"d\": \"choice here\",\n",
    "        },\n",
    "        \"correct\": \"correct answer\",\n",
    "    }\n",
    "\n",
    "}"
   ]
  },
  {
   "cell_type": "code",
   "execution_count": 13,
   "metadata": {},
   "outputs": [],
   "source": [
    "#Defining template for quiz generation prompt\n",
    "\n",
    "TEMPLATE = \"\"\"\n",
    "Text: {text}\n",
    "You are an expert MCQ maker. Given the above text, it is your job to \\\n",
    "create a quiz of {number} multiple choice questions for {subject} students in {tone} tone.\n",
    "Make sure the questions are not repeated and check all the question to be conforming the text as well.\n",
    "Make sure to format your response like RESPONSE_JSON below and use it as a guide. \\\n",
    "Ensure to make {number} MCQs\n",
    "### RESPONSE_JSON \n",
    "{response_json} \n",
    "\n",
    "\"\"\""
   ]
  },
  {
   "cell_type": "code",
   "execution_count": 14,
   "metadata": {},
   "outputs": [],
   "source": [
    "quiz_gen_prompt = PromptTemplate(\n",
    "    input_variables= [\"text\",\"number\",\"subject\",\"tone\",\"response_json\"],\n",
    "    template=TEMPLATE\n",
    ")"
   ]
  },
  {
   "cell_type": "code",
   "execution_count": 15,
   "metadata": {},
   "outputs": [
    {
     "name": "stderr",
     "output_type": "stream",
     "text": [
      "d:\\Users\\Dell\\Anaconda3\\envs\\foodie\\lib\\site-packages\\langchain_core\\_api\\deprecation.py:139: LangChainDeprecationWarning: The class `LLMChain` was deprecated in LangChain 0.1.17 and will be removed in 1.0. Use RunnableSequence, e.g., `prompt | llm` instead.\n",
      "  warn_deprecated(\n"
     ]
    }
   ],
   "source": [
    "# 1st Chain:\n",
    "\n",
    "quiz_chain = LLMChain(llm=llm,prompt=quiz_gen_prompt,output_key=\"quiz\",verbose=True)"
   ]
  },
  {
   "cell_type": "code",
   "execution_count": 16,
   "metadata": {},
   "outputs": [],
   "source": [
    "TEMPLATE2 = \"\"\"\n",
    "You are an expert english grammarian and writer given a multiple choice quiz for {subject} students.\\\n",
    "You need to evaluate the complexity of the question and give a complete analysis of quiz. Only use at max 50 words for complexity.\n",
    "If the quiz is not at per with the cognitive and analytical abilities of the students,\\\n",
    "update the quiz questions which needs to be changed and change the tone such that it perfectly fits the student's ability.\n",
    "Quiz_MCQs:\n",
    "{quiz}\n",
    "\n",
    "Check from an expert english writer of the above quiz:\n",
    "\"\"\""
   ]
  },
  {
   "cell_type": "code",
   "execution_count": 17,
   "metadata": {},
   "outputs": [],
   "source": [
    "quiz_eval_prompt = PromptTemplate(\n",
    "    input_variables= [\"subject\",\"quiz\"],\n",
    "    template=TEMPLATE2\n",
    ")"
   ]
  },
  {
   "cell_type": "code",
   "execution_count": 18,
   "metadata": {},
   "outputs": [],
   "source": [
    "# 2nd Chain\n",
    "\n",
    "review_chain = LLMChain(llm=llm,prompt=quiz_eval_prompt,output_key=\"review\",verbose=True)"
   ]
  },
  {
   "cell_type": "code",
   "execution_count": 19,
   "metadata": {},
   "outputs": [],
   "source": [
    "# Combining the Chains:\n",
    "\n",
    "generate_evaluate_chain = SequentialChain(chains=[quiz_chain,review_chain],input_variables=[\"text\",\"number\",\"subject\",\"tone\",\"response_json\"],\n",
    "                                          output_variables=[\"quiz\",\"review\"],verbose=True)\n"
   ]
  },
  {
   "cell_type": "code",
   "execution_count": 21,
   "metadata": {},
   "outputs": [],
   "source": [
    "file_path = r\"D:\\Users\\Dell\\mcqgenproj\\data.txt\"\n"
   ]
  },
  {
   "cell_type": "code",
   "execution_count": 22,
   "metadata": {},
   "outputs": [],
   "source": [
    "with open(file_path,'r') as file:\n",
    "    TEXT = file.read()"
   ]
  },
  {
   "cell_type": "code",
   "execution_count": 23,
   "metadata": {},
   "outputs": [
    {
     "name": "stdout",
     "output_type": "stream",
     "text": [
      "Sure, I can provide a comprehensive guide to supervised learning, covering everything from the basics to more advanced concepts. Here's an in-depth look at the topic:\n",
      "\n",
      "## What is Supervised Learning?\n",
      "\n",
      "Supervised learning is a type of machine learning where the model is trained on labeled data. This means that the algorithm learns from input-output pairs, where the input is a set of features and the output is the label or target. The goal of supervised learning is to learn a mapping from inputs to outputs so that the model can make accurate predictions on new, unseen data.\n",
      "\n",
      "### Types of Supervised Learning\n",
      "\n",
      "There are two main types of supervised learning problems:\n",
      "1. **Regression**: Predicting a continuous output. For example, predicting house prices based on features like size, location, etc.\n",
      "2. **Classification**: Predicting a discrete label. For example, classifying emails as spam or not spam.\n",
      "\n",
      "## Key Concepts in Supervised Learning\n",
      "\n",
      "### 1. **Training and Testing Data**\n",
      "\n",
      "- **Training Data**: A subset of the dataset used to train the model. It includes input-output pairs that the model learns from.\n",
      "- **Testing Data**: A subset of the dataset used to evaluate the model's performance. The model has not seen this data during training.\n",
      "\n",
      "### 2. **Features and Labels**\n",
      "\n",
      "- **Features**: The input variables or attributes used to make predictions.\n",
      "- **Labels**: The output variable or target that the model aims to predict.\n",
      "\n",
      "### 3. **Model**\n",
      "\n",
      "A mathematical representation of the relationship between the features and the labels. Common models include linear regression, decision trees, and neural networks.\n",
      "\n",
      "### 4. **Loss Function**\n",
      "\n",
      "A function that measures the difference between the predicted output and the actual output. The goal of training is to minimize the loss function.\n",
      "\n",
      "### 5. **Optimization Algorithm**\n",
      "\n",
      "An algorithm used to adjust the model parameters to minimize the loss function. Common optimization algorithms include gradient descent and its variants.\n",
      "\n",
      "## Supervised Learning Algorithms\n",
      "\n",
      "### 1. **Linear Regression**\n",
      "\n",
      "A regression algorithm that models the relationship between the input features and the output as a linear combination of the features.\n",
      "\n",
      "### 2. **Logistic Regression**\n",
      "\n",
      "A classification algorithm used to model binary outcomes. It uses the logistic function to output probabilities.\n",
      "\n",
      "### 3. **Decision Trees**\n",
      "\n",
      "A model that splits the data into subsets based on the value of input features. Each node represents a decision point, and the leaves represent the output.\n",
      "\n",
      "### 4. **Support Vector Machines (SVM)**\n",
      "\n",
      "A classification algorithm that finds the hyperplane that best separates the classes in the feature space.\n",
      "\n",
      "### 5. **k-Nearest Neighbors (k-NN)**\n",
      "\n",
      "A classification algorithm that assigns a label based on the majority class among the k-nearest neighbors in the feature space.\n",
      "\n",
      "### 6. **Neural Networks**\n",
      "\n",
      "A complex model composed of layers of interconnected nodes (neurons). Each node performs a simple computation, and the network learns complex functions by combining these computations.\n",
      "\n",
      "## Model Evaluation and Selection\n",
      "\n",
      "### 1. **Train/Test Split**\n",
      "\n",
      "Dividing the dataset into training and testing sets to evaluate model performance.\n",
      "\n",
      "### 2. **Cross-Validation**\n",
      "\n",
      "A technique that involves splitting the data into multiple folds and training/testing the model on each fold. It helps in obtaining a more reliable estimate of model performance.\n",
      "\n",
      "### 3. **Metrics**\n",
      "\n",
      "- **Accuracy**: The proportion of correct predictions.\n",
      "- **Precision**: The proportion of true positives among the predicted positives.\n",
      "- **Recall**: The proportion of true positives among the actual positives.\n",
      "- **F1 Score**: The harmonic mean of precision and recall.\n",
      "- **Mean Squared Error (MSE)**: The average of the squared differences between the predicted and actual values (for regression).\n",
      "\n",
      "## Advanced Topics in Supervised Learning\n",
      "\n",
      "### 1. **Regularization**\n",
      "\n",
      "Techniques to prevent overfitting by penalizing large model parameters. Common methods include L1 (Lasso) and L2 (Ridge) regularization.\n",
      "\n",
      "### 2. **Ensemble Methods**\n",
      "\n",
      "Combining multiple models to improve performance. Common ensemble methods include:\n",
      "- **Bagging**: Training multiple models on different subsets of the data and averaging their predictions (e.g., Random Forests).\n",
      "- **Boosting**: Sequentially training models to correct the errors of the previous models (e.g., AdaBoost, Gradient Boosting).\n",
      "\n",
      "### 3. **Hyperparameter Tuning**\n",
      "\n",
      "The process of finding the best parameters for a model. Techniques include grid search, random search, and Bayesian optimization.\n",
      "\n",
      "### 4. **Feature Engineering**\n",
      "\n",
      "The process of transforming raw data into features that better represent the underlying problem. This can include scaling, encoding categorical variables, and creating new features.\n",
      "\n",
      "### 5. **Handling Imbalanced Data**\n",
      "\n",
      "Techniques to handle datasets where the classes are not represented equally. Methods include resampling (oversampling and undersampling), using different evaluation metrics, and algorithmic approaches like SMOTE (Synthetic Minority Over-sampling Technique).\n",
      "\n",
      "### 6. **Model Interpretability**\n",
      "\n",
      "Understanding and explaining how a model makes predictions. Techniques include:\n",
      "- **Feature Importance**: Determining the contribution of each feature to the model's predictions.\n",
      "- **SHAP Values**: A method to explain individual predictions.\n",
      "- **LIME**: Local Interpretable Model-agnostic Explanations, which provides local explanations for predictions.\n",
      "\n",
      "## Practical Considerations\n",
      "\n",
      "### 1. **Data Preprocessing**\n",
      "\n",
      "Preparing the data for training by handling missing values, normalizing/standardizing features, and encoding categorical variables.\n",
      "\n",
      "### 2. **Bias-Variance Tradeoff**\n",
      "\n",
      "Balancing the tradeoff between bias (error due to simplifying assumptions in the model) and variance (error due to sensitivity to small fluctuations in the training set).\n",
      "\n",
      "### 3. **Scalability**\n",
      "\n",
      "Ensuring the model can handle large datasets and high-dimensional data. Techniques include dimensionality reduction (e.g., PCA), using more efficient algorithms, and leveraging distributed computing.\n",
      "\n",
      "### 4. **Ethical Considerations**\n",
      "\n",
      "Ensuring the model is fair and does not discriminate against certain groups. Techniques include checking for bias in the data and using fairness-aware algorithms.\n",
      "\n",
      "## Summary\n",
      "\n",
      "Supervised learning is a foundational concept in machine learning that involves training models on labeled data to make predictions. It encompasses a variety of algorithms and techniques, each suited for different types of problems and data. Understanding the fundamentals, as well as advanced methods, is crucial for building effective machine learning models.\n"
     ]
    }
   ],
   "source": [
    "print(TEXT)"
   ]
  },
  {
   "cell_type": "code",
   "execution_count": 24,
   "metadata": {},
   "outputs": [
    {
     "data": {
      "text/plain": [
       "'{\"1\": {\"mcq\": \"multiple choice question\", \"options\": {\"a\": \"choice here\", \"b\": \"choice here\", \"c\": \"choice here\", \"d\": \"choice here\"}, \"correct\": \"correct answer\"}, \"2\": {\"mcq\": \"multiple choice question\", \"options\": {\"a\": \"choice here\", \"b\": \"choice here\", \"c\": \"choice here\", \"d\": \"choice here\"}, \"correct\": \"correct answer\"}, \"3\": {\"mcq\": \"multiple choice question\", \"options\": {\"a\": \"choice here\", \"b\": \"choice here\", \"c\": \"choice here\", \"d\": \"choice here\"}, \"correct\": \"correct answer\"}}'"
      ]
     },
     "execution_count": 24,
     "metadata": {},
     "output_type": "execute_result"
    }
   ],
   "source": [
    "# Serialize the python dictionary into the JSON-formatted string\n",
    "\n",
    "json.dumps(RESPONSE_JSON)"
   ]
  },
  {
   "cell_type": "code",
   "execution_count": 25,
   "metadata": {},
   "outputs": [],
   "source": [
    "NUMBER=5\n",
    "SUBJECT=\"supervised learning\"\n",
    "TONE=\"simple\""
   ]
  },
  {
   "cell_type": "code",
   "execution_count": 26,
   "metadata": {},
   "outputs": [
    {
     "name": "stderr",
     "output_type": "stream",
     "text": [
      "d:\\Users\\Dell\\Anaconda3\\envs\\foodie\\lib\\site-packages\\langchain_core\\_api\\deprecation.py:139: LangChainDeprecationWarning: The method `Chain.__call__` was deprecated in langchain 0.1.0 and will be removed in 0.3.0. Use invoke instead.\n",
      "  warn_deprecated(\n"
     ]
    },
    {
     "name": "stdout",
     "output_type": "stream",
     "text": [
      "\n",
      "\n",
      "\u001b[1m> Entering new SequentialChain chain...\u001b[0m\n",
      "\n",
      "\n",
      "\u001b[1m> Entering new LLMChain chain...\u001b[0m\n",
      "Prompt after formatting:\n",
      "\u001b[32;1m\u001b[1;3m\n",
      "Text: Sure, I can provide a comprehensive guide to supervised learning, covering everything from the basics to more advanced concepts. Here's an in-depth look at the topic:\n",
      "\n",
      "## What is Supervised Learning?\n",
      "\n",
      "Supervised learning is a type of machine learning where the model is trained on labeled data. This means that the algorithm learns from input-output pairs, where the input is a set of features and the output is the label or target. The goal of supervised learning is to learn a mapping from inputs to outputs so that the model can make accurate predictions on new, unseen data.\n",
      "\n",
      "### Types of Supervised Learning\n",
      "\n",
      "There are two main types of supervised learning problems:\n",
      "1. **Regression**: Predicting a continuous output. For example, predicting house prices based on features like size, location, etc.\n",
      "2. **Classification**: Predicting a discrete label. For example, classifying emails as spam or not spam.\n",
      "\n",
      "## Key Concepts in Supervised Learning\n",
      "\n",
      "### 1. **Training and Testing Data**\n",
      "\n",
      "- **Training Data**: A subset of the dataset used to train the model. It includes input-output pairs that the model learns from.\n",
      "- **Testing Data**: A subset of the dataset used to evaluate the model's performance. The model has not seen this data during training.\n",
      "\n",
      "### 2. **Features and Labels**\n",
      "\n",
      "- **Features**: The input variables or attributes used to make predictions.\n",
      "- **Labels**: The output variable or target that the model aims to predict.\n",
      "\n",
      "### 3. **Model**\n",
      "\n",
      "A mathematical representation of the relationship between the features and the labels. Common models include linear regression, decision trees, and neural networks.\n",
      "\n",
      "### 4. **Loss Function**\n",
      "\n",
      "A function that measures the difference between the predicted output and the actual output. The goal of training is to minimize the loss function.\n",
      "\n",
      "### 5. **Optimization Algorithm**\n",
      "\n",
      "An algorithm used to adjust the model parameters to minimize the loss function. Common optimization algorithms include gradient descent and its variants.\n",
      "\n",
      "## Supervised Learning Algorithms\n",
      "\n",
      "### 1. **Linear Regression**\n",
      "\n",
      "A regression algorithm that models the relationship between the input features and the output as a linear combination of the features.\n",
      "\n",
      "### 2. **Logistic Regression**\n",
      "\n",
      "A classification algorithm used to model binary outcomes. It uses the logistic function to output probabilities.\n",
      "\n",
      "### 3. **Decision Trees**\n",
      "\n",
      "A model that splits the data into subsets based on the value of input features. Each node represents a decision point, and the leaves represent the output.\n",
      "\n",
      "### 4. **Support Vector Machines (SVM)**\n",
      "\n",
      "A classification algorithm that finds the hyperplane that best separates the classes in the feature space.\n",
      "\n",
      "### 5. **k-Nearest Neighbors (k-NN)**\n",
      "\n",
      "A classification algorithm that assigns a label based on the majority class among the k-nearest neighbors in the feature space.\n",
      "\n",
      "### 6. **Neural Networks**\n",
      "\n",
      "A complex model composed of layers of interconnected nodes (neurons). Each node performs a simple computation, and the network learns complex functions by combining these computations.\n",
      "\n",
      "## Model Evaluation and Selection\n",
      "\n",
      "### 1. **Train/Test Split**\n",
      "\n",
      "Dividing the dataset into training and testing sets to evaluate model performance.\n",
      "\n",
      "### 2. **Cross-Validation**\n",
      "\n",
      "A technique that involves splitting the data into multiple folds and training/testing the model on each fold. It helps in obtaining a more reliable estimate of model performance.\n",
      "\n",
      "### 3. **Metrics**\n",
      "\n",
      "- **Accuracy**: The proportion of correct predictions.\n",
      "- **Precision**: The proportion of true positives among the predicted positives.\n",
      "- **Recall**: The proportion of true positives among the actual positives.\n",
      "- **F1 Score**: The harmonic mean of precision and recall.\n",
      "- **Mean Squared Error (MSE)**: The average of the squared differences between the predicted and actual values (for regression).\n",
      "\n",
      "## Advanced Topics in Supervised Learning\n",
      "\n",
      "### 1. **Regularization**\n",
      "\n",
      "Techniques to prevent overfitting by penalizing large model parameters. Common methods include L1 (Lasso) and L2 (Ridge) regularization.\n",
      "\n",
      "### 2. **Ensemble Methods**\n",
      "\n",
      "Combining multiple models to improve performance. Common ensemble methods include:\n",
      "- **Bagging**: Training multiple models on different subsets of the data and averaging their predictions (e.g., Random Forests).\n",
      "- **Boosting**: Sequentially training models to correct the errors of the previous models (e.g., AdaBoost, Gradient Boosting).\n",
      "\n",
      "### 3. **Hyperparameter Tuning**\n",
      "\n",
      "The process of finding the best parameters for a model. Techniques include grid search, random search, and Bayesian optimization.\n",
      "\n",
      "### 4. **Feature Engineering**\n",
      "\n",
      "The process of transforming raw data into features that better represent the underlying problem. This can include scaling, encoding categorical variables, and creating new features.\n",
      "\n",
      "### 5. **Handling Imbalanced Data**\n",
      "\n",
      "Techniques to handle datasets where the classes are not represented equally. Methods include resampling (oversampling and undersampling), using different evaluation metrics, and algorithmic approaches like SMOTE (Synthetic Minority Over-sampling Technique).\n",
      "\n",
      "### 6. **Model Interpretability**\n",
      "\n",
      "Understanding and explaining how a model makes predictions. Techniques include:\n",
      "- **Feature Importance**: Determining the contribution of each feature to the model's predictions.\n",
      "- **SHAP Values**: A method to explain individual predictions.\n",
      "- **LIME**: Local Interpretable Model-agnostic Explanations, which provides local explanations for predictions.\n",
      "\n",
      "## Practical Considerations\n",
      "\n",
      "### 1. **Data Preprocessing**\n",
      "\n",
      "Preparing the data for training by handling missing values, normalizing/standardizing features, and encoding categorical variables.\n",
      "\n",
      "### 2. **Bias-Variance Tradeoff**\n",
      "\n",
      "Balancing the tradeoff between bias (error due to simplifying assumptions in the model) and variance (error due to sensitivity to small fluctuations in the training set).\n",
      "\n",
      "### 3. **Scalability**\n",
      "\n",
      "Ensuring the model can handle large datasets and high-dimensional data. Techniques include dimensionality reduction (e.g., PCA), using more efficient algorithms, and leveraging distributed computing.\n",
      "\n",
      "### 4. **Ethical Considerations**\n",
      "\n",
      "Ensuring the model is fair and does not discriminate against certain groups. Techniques include checking for bias in the data and using fairness-aware algorithms.\n",
      "\n",
      "## Summary\n",
      "\n",
      "Supervised learning is a foundational concept in machine learning that involves training models on labeled data to make predictions. It encompasses a variety of algorithms and techniques, each suited for different types of problems and data. Understanding the fundamentals, as well as advanced methods, is crucial for building effective machine learning models.\n",
      "You are an expert MCQ maker. Given the above text, it is your job to create a quiz of 5 multiple choice questions for supervised learning students in simple tone.\n",
      "Make sure the questions are not repeated and check all the question to be conforming the text as well.\n",
      "Make sure to format your response like RESPONSE_JSON below and use it as a guide. Ensure to make 5 MCQs\n",
      "### RESPONSE_JSON \n",
      "{\"1\": {\"mcq\": \"multiple choice question\", \"options\": {\"a\": \"choice here\", \"b\": \"choice here\", \"c\": \"choice here\", \"d\": \"choice here\"}, \"correct\": \"correct answer\"}, \"2\": {\"mcq\": \"multiple choice question\", \"options\": {\"a\": \"choice here\", \"b\": \"choice here\", \"c\": \"choice here\", \"d\": \"choice here\"}, \"correct\": \"correct answer\"}, \"3\": {\"mcq\": \"multiple choice question\", \"options\": {\"a\": \"choice here\", \"b\": \"choice here\", \"c\": \"choice here\", \"d\": \"choice here\"}, \"correct\": \"correct answer\"}} \n",
      "\n",
      "\u001b[0m\n",
      "\n",
      "\u001b[1m> Finished chain.\u001b[0m\n",
      "\n",
      "\n",
      "\u001b[1m> Entering new LLMChain chain...\u001b[0m\n",
      "Prompt after formatting:\n",
      "\u001b[32;1m\u001b[1;3m\n",
      "You are an expert english grammarian and writer given a multiple choice quiz for supervised learning students.You need to evaluate the complexity of the question and give a complete analysis of quiz. Only use at max 50 words for complexity.\n",
      "If the quiz is not at per with the cognitive and analytical abilities of the students,update the quiz questions which needs to be changed and change the tone such that it perfectly fits the student's ability.\n",
      "Quiz_MCQs:\n",
      "\n",
      "{\n",
      "    \"1\": {\n",
      "        \"mcq\": \"What is the goal of supervised learning?\",\n",
      "        \"options\": {\n",
      "            \"a\": \"To learn from unlabeled data\",\n",
      "            \"b\": \"To learn from labeled data\",\n",
      "            \"c\": \"To predict future outcomes without any data\",\n",
      "            \"d\": \"To ignore the input features\"\n",
      "        },\n",
      "        \"correct\": \"b\"\n",
      "    },\n",
      "    \"2\": {\n",
      "        \"mcq\": \"Which type of supervised learning predicts a continuous output?\",\n",
      "        \"options\": {\n",
      "            \"a\": \"Regression\",\n",
      "            \"b\": \"Classification\",\n",
      "            \"c\": \"Clustering\",\n",
      "            \"d\": \"Association\"\n",
      "        },\n",
      "        \"correct\": \"a\"\n",
      "    },\n",
      "    \"3\": {\n",
      "        \"mcq\": \"What is the function of a loss function in supervised learning?\",\n",
      "        \"options\": {\n",
      "            \"a\": \"To maximize the error\",\n",
      "            \"b\": \"To measure the difference between predicted and actual output\",\n",
      "            \"c\": \"To ignore the model parameters\",\n",
      "            \"d\": \"To minimize the number of features\"\n",
      "        },\n",
      "        \"correct\": \"b\"\n",
      "    },\n",
      "    \"4\": {\n",
      "        \"mcq\": \"Which algorithm is used for binary classification?\",\n",
      "        \"options\": {\n",
      "            \"a\": \"Linear Regression\",\n",
      "            \"b\": \"Decision Trees\",\n",
      "            \"c\": \"Support Vector Machines\",\n",
      "            \"d\": \"k-Nearest Neighbors\"\n",
      "        },\n",
      "        \"correct\": \"c\"\n",
      "    },\n",
      "    \"5\": {\n",
      "        \"mcq\": \"What is the purpose of feature engineering in supervised learning?\",\n",
      "        \"options\": {\n",
      "            \"a\": \"To remove all features from the dataset\",\n",
      "            \"b\": \"To transform raw data into features that better represent the problem\",\n",
      "            \"c\": \"To increase the complexity of the model\",\n",
      "            \"d\": \"To decrease the model's interpretability\"\n",
      "        },\n",
      "        \"correct\": \"b\"\n",
      "    }\n",
      "}\n",
      "\n",
      "Check from an expert english writer of the above quiz:\n",
      "\u001b[0m\n",
      "\n",
      "\u001b[1m> Finished chain.\u001b[0m\n",
      "\n",
      "\u001b[1m> Finished chain.\u001b[0m\n"
     ]
    }
   ],
   "source": [
    "# How to setup token usage tracking in langchain\n",
    "\n",
    "with get_openai_callback() as cb:\n",
    "    response = generate_evaluate_chain(\n",
    "        {\n",
    "            \"text\": TEXT,\n",
    "            \"number\": NUMBER,\n",
    "            \"subject\": SUBJECT,\n",
    "            \"tone\": TONE,\n",
    "            \"response_json\": json.dumps(RESPONSE_JSON)\n",
    "        }\n",
    "    )"
   ]
  },
  {
   "cell_type": "code",
   "execution_count": 27,
   "metadata": {},
   "outputs": [
    {
     "name": "stdout",
     "output_type": "stream",
     "text": [
      "Total Tokens: 2512\n",
      "Prompt Tokens: 2066\n",
      "Completion Tokens: 446\n",
      "Total Cost: 0.0017020000000000002\n"
     ]
    }
   ],
   "source": [
    "print(f\"Total Tokens: {cb.total_tokens}\")\n",
    "print(f\"Prompt Tokens: {cb.prompt_tokens}\")\n",
    "print(f\"Completion Tokens: {cb.completion_tokens}\")\n",
    "print(f\"Total Cost: {cb.total_cost}\")\n"
   ]
  },
  {
   "cell_type": "code",
   "execution_count": 28,
   "metadata": {},
   "outputs": [
    {
     "data": {
      "text/plain": [
       "{'text': \"Sure, I can provide a comprehensive guide to supervised learning, covering everything from the basics to more advanced concepts. Here's an in-depth look at the topic:\\n\\n## What is Supervised Learning?\\n\\nSupervised learning is a type of machine learning where the model is trained on labeled data. This means that the algorithm learns from input-output pairs, where the input is a set of features and the output is the label or target. The goal of supervised learning is to learn a mapping from inputs to outputs so that the model can make accurate predictions on new, unseen data.\\n\\n### Types of Supervised Learning\\n\\nThere are two main types of supervised learning problems:\\n1. **Regression**: Predicting a continuous output. For example, predicting house prices based on features like size, location, etc.\\n2. **Classification**: Predicting a discrete label. For example, classifying emails as spam or not spam.\\n\\n## Key Concepts in Supervised Learning\\n\\n### 1. **Training and Testing Data**\\n\\n- **Training Data**: A subset of the dataset used to train the model. It includes input-output pairs that the model learns from.\\n- **Testing Data**: A subset of the dataset used to evaluate the model's performance. The model has not seen this data during training.\\n\\n### 2. **Features and Labels**\\n\\n- **Features**: The input variables or attributes used to make predictions.\\n- **Labels**: The output variable or target that the model aims to predict.\\n\\n### 3. **Model**\\n\\nA mathematical representation of the relationship between the features and the labels. Common models include linear regression, decision trees, and neural networks.\\n\\n### 4. **Loss Function**\\n\\nA function that measures the difference between the predicted output and the actual output. The goal of training is to minimize the loss function.\\n\\n### 5. **Optimization Algorithm**\\n\\nAn algorithm used to adjust the model parameters to minimize the loss function. Common optimization algorithms include gradient descent and its variants.\\n\\n## Supervised Learning Algorithms\\n\\n### 1. **Linear Regression**\\n\\nA regression algorithm that models the relationship between the input features and the output as a linear combination of the features.\\n\\n### 2. **Logistic Regression**\\n\\nA classification algorithm used to model binary outcomes. It uses the logistic function to output probabilities.\\n\\n### 3. **Decision Trees**\\n\\nA model that splits the data into subsets based on the value of input features. Each node represents a decision point, and the leaves represent the output.\\n\\n### 4. **Support Vector Machines (SVM)**\\n\\nA classification algorithm that finds the hyperplane that best separates the classes in the feature space.\\n\\n### 5. **k-Nearest Neighbors (k-NN)**\\n\\nA classification algorithm that assigns a label based on the majority class among the k-nearest neighbors in the feature space.\\n\\n### 6. **Neural Networks**\\n\\nA complex model composed of layers of interconnected nodes (neurons). Each node performs a simple computation, and the network learns complex functions by combining these computations.\\n\\n## Model Evaluation and Selection\\n\\n### 1. **Train/Test Split**\\n\\nDividing the dataset into training and testing sets to evaluate model performance.\\n\\n### 2. **Cross-Validation**\\n\\nA technique that involves splitting the data into multiple folds and training/testing the model on each fold. It helps in obtaining a more reliable estimate of model performance.\\n\\n### 3. **Metrics**\\n\\n- **Accuracy**: The proportion of correct predictions.\\n- **Precision**: The proportion of true positives among the predicted positives.\\n- **Recall**: The proportion of true positives among the actual positives.\\n- **F1 Score**: The harmonic mean of precision and recall.\\n- **Mean Squared Error (MSE)**: The average of the squared differences between the predicted and actual values (for regression).\\n\\n## Advanced Topics in Supervised Learning\\n\\n### 1. **Regularization**\\n\\nTechniques to prevent overfitting by penalizing large model parameters. Common methods include L1 (Lasso) and L2 (Ridge) regularization.\\n\\n### 2. **Ensemble Methods**\\n\\nCombining multiple models to improve performance. Common ensemble methods include:\\n- **Bagging**: Training multiple models on different subsets of the data and averaging their predictions (e.g., Random Forests).\\n- **Boosting**: Sequentially training models to correct the errors of the previous models (e.g., AdaBoost, Gradient Boosting).\\n\\n### 3. **Hyperparameter Tuning**\\n\\nThe process of finding the best parameters for a model. Techniques include grid search, random search, and Bayesian optimization.\\n\\n### 4. **Feature Engineering**\\n\\nThe process of transforming raw data into features that better represent the underlying problem. This can include scaling, encoding categorical variables, and creating new features.\\n\\n### 5. **Handling Imbalanced Data**\\n\\nTechniques to handle datasets where the classes are not represented equally. Methods include resampling (oversampling and undersampling), using different evaluation metrics, and algorithmic approaches like SMOTE (Synthetic Minority Over-sampling Technique).\\n\\n### 6. **Model Interpretability**\\n\\nUnderstanding and explaining how a model makes predictions. Techniques include:\\n- **Feature Importance**: Determining the contribution of each feature to the model's predictions.\\n- **SHAP Values**: A method to explain individual predictions.\\n- **LIME**: Local Interpretable Model-agnostic Explanations, which provides local explanations for predictions.\\n\\n## Practical Considerations\\n\\n### 1. **Data Preprocessing**\\n\\nPreparing the data for training by handling missing values, normalizing/standardizing features, and encoding categorical variables.\\n\\n### 2. **Bias-Variance Tradeoff**\\n\\nBalancing the tradeoff between bias (error due to simplifying assumptions in the model) and variance (error due to sensitivity to small fluctuations in the training set).\\n\\n### 3. **Scalability**\\n\\nEnsuring the model can handle large datasets and high-dimensional data. Techniques include dimensionality reduction (e.g., PCA), using more efficient algorithms, and leveraging distributed computing.\\n\\n### 4. **Ethical Considerations**\\n\\nEnsuring the model is fair and does not discriminate against certain groups. Techniques include checking for bias in the data and using fairness-aware algorithms.\\n\\n## Summary\\n\\nSupervised learning is a foundational concept in machine learning that involves training models on labeled data to make predictions. It encompasses a variety of algorithms and techniques, each suited for different types of problems and data. Understanding the fundamentals, as well as advanced methods, is crucial for building effective machine learning models.\",\n",
       " 'number': 5,\n",
       " 'subject': 'supervised learning',\n",
       " 'tone': 'simple',\n",
       " 'response_json': '{\"1\": {\"mcq\": \"multiple choice question\", \"options\": {\"a\": \"choice here\", \"b\": \"choice here\", \"c\": \"choice here\", \"d\": \"choice here\"}, \"correct\": \"correct answer\"}, \"2\": {\"mcq\": \"multiple choice question\", \"options\": {\"a\": \"choice here\", \"b\": \"choice here\", \"c\": \"choice here\", \"d\": \"choice here\"}, \"correct\": \"correct answer\"}, \"3\": {\"mcq\": \"multiple choice question\", \"options\": {\"a\": \"choice here\", \"b\": \"choice here\", \"c\": \"choice here\", \"d\": \"choice here\"}, \"correct\": \"correct answer\"}}',\n",
       " 'quiz': '\\n{\\n    \"1\": {\\n        \"mcq\": \"What is the goal of supervised learning?\",\\n        \"options\": {\\n            \"a\": \"To learn from unlabeled data\",\\n            \"b\": \"To learn from labeled data\",\\n            \"c\": \"To predict future outcomes without any data\",\\n            \"d\": \"To ignore the input features\"\\n        },\\n        \"correct\": \"b\"\\n    },\\n    \"2\": {\\n        \"mcq\": \"Which type of supervised learning predicts a continuous output?\",\\n        \"options\": {\\n            \"a\": \"Regression\",\\n            \"b\": \"Classification\",\\n            \"c\": \"Clustering\",\\n            \"d\": \"Association\"\\n        },\\n        \"correct\": \"a\"\\n    },\\n    \"3\": {\\n        \"mcq\": \"What is the function of a loss function in supervised learning?\",\\n        \"options\": {\\n            \"a\": \"To maximize the error\",\\n            \"b\": \"To measure the difference between predicted and actual output\",\\n            \"c\": \"To ignore the model parameters\",\\n            \"d\": \"To minimize the number of features\"\\n        },\\n        \"correct\": \"b\"\\n    },\\n    \"4\": {\\n        \"mcq\": \"Which algorithm is used for binary classification?\",\\n        \"options\": {\\n            \"a\": \"Linear Regression\",\\n            \"b\": \"Decision Trees\",\\n            \"c\": \"Support Vector Machines\",\\n            \"d\": \"k-Nearest Neighbors\"\\n        },\\n        \"correct\": \"c\"\\n    },\\n    \"5\": {\\n        \"mcq\": \"What is the purpose of feature engineering in supervised learning?\",\\n        \"options\": {\\n            \"a\": \"To remove all features from the dataset\",\\n            \"b\": \"To transform raw data into features that better represent the problem\",\\n            \"c\": \"To increase the complexity of the model\",\\n            \"d\": \"To decrease the model\\'s interpretability\"\\n        },\\n        \"correct\": \"b\"\\n    }\\n}',\n",
       " 'review': \"The complexity of the quiz questions is appropriate for students learning about supervised learning. The questions are clear, concise, and test fundamental concepts. No changes are needed as they align well with the students' cognitive abilities.\"}"
      ]
     },
     "execution_count": 28,
     "metadata": {},
     "output_type": "execute_result"
    }
   ],
   "source": [
    "response"
   ]
  },
  {
   "cell_type": "code",
   "execution_count": 29,
   "metadata": {},
   "outputs": [],
   "source": [
    "quiz = response.get(\"quiz\")"
   ]
  },
  {
   "cell_type": "code",
   "execution_count": 30,
   "metadata": {},
   "outputs": [
    {
     "data": {
      "text/plain": [
       "{'1': {'mcq': 'What is the goal of supervised learning?',\n",
       "  'options': {'a': 'To learn from unlabeled data',\n",
       "   'b': 'To learn from labeled data',\n",
       "   'c': 'To predict future outcomes without any data',\n",
       "   'd': 'To ignore the input features'},\n",
       "  'correct': 'b'},\n",
       " '2': {'mcq': 'Which type of supervised learning predicts a continuous output?',\n",
       "  'options': {'a': 'Regression',\n",
       "   'b': 'Classification',\n",
       "   'c': 'Clustering',\n",
       "   'd': 'Association'},\n",
       "  'correct': 'a'},\n",
       " '3': {'mcq': 'What is the function of a loss function in supervised learning?',\n",
       "  'options': {'a': 'To maximize the error',\n",
       "   'b': 'To measure the difference between predicted and actual output',\n",
       "   'c': 'To ignore the model parameters',\n",
       "   'd': 'To minimize the number of features'},\n",
       "  'correct': 'b'},\n",
       " '4': {'mcq': 'Which algorithm is used for binary classification?',\n",
       "  'options': {'a': 'Linear Regression',\n",
       "   'b': 'Decision Trees',\n",
       "   'c': 'Support Vector Machines',\n",
       "   'd': 'k-Nearest Neighbors'},\n",
       "  'correct': 'c'},\n",
       " '5': {'mcq': 'What is the purpose of feature engineering in supervised learning?',\n",
       "  'options': {'a': 'To remove all features from the dataset',\n",
       "   'b': 'To transform raw data into features that better represent the problem',\n",
       "   'c': 'To increase the complexity of the model',\n",
       "   'd': \"To decrease the model's interpretability\"},\n",
       "  'correct': 'b'}}"
      ]
     },
     "execution_count": 30,
     "metadata": {},
     "output_type": "execute_result"
    }
   ],
   "source": [
    "json.loads(quiz)"
   ]
  },
  {
   "cell_type": "code",
   "execution_count": 31,
   "metadata": {},
   "outputs": [],
   "source": [
    "var1 = json.loads(quiz)"
   ]
  },
  {
   "cell_type": "code",
   "execution_count": 36,
   "metadata": {},
   "outputs": [
    {
     "data": {
      "text/html": [
       "<div>\n",
       "<style scoped>\n",
       "    .dataframe tbody tr th:only-of-type {\n",
       "        vertical-align: middle;\n",
       "    }\n",
       "\n",
       "    .dataframe tbody tr th {\n",
       "        vertical-align: top;\n",
       "    }\n",
       "\n",
       "    .dataframe thead th {\n",
       "        text-align: right;\n",
       "    }\n",
       "</style>\n",
       "<table border=\"1\" class=\"dataframe\">\n",
       "  <thead>\n",
       "    <tr style=\"text-align: right;\">\n",
       "      <th></th>\n",
       "      <th>1</th>\n",
       "      <th>2</th>\n",
       "      <th>3</th>\n",
       "      <th>4</th>\n",
       "      <th>5</th>\n",
       "    </tr>\n",
       "  </thead>\n",
       "  <tbody>\n",
       "    <tr>\n",
       "      <th>mcq</th>\n",
       "      <td>What is the goal of supervised learning?</td>\n",
       "      <td>Which type of supervised learning predicts a c...</td>\n",
       "      <td>What is the function of a loss function in sup...</td>\n",
       "      <td>Which algorithm is used for binary classificat...</td>\n",
       "      <td>What is the purpose of feature engineering in ...</td>\n",
       "    </tr>\n",
       "    <tr>\n",
       "      <th>options</th>\n",
       "      <td>{'a': 'To learn from unlabeled data', 'b': 'To...</td>\n",
       "      <td>{'a': 'Regression', 'b': 'Classification', 'c'...</td>\n",
       "      <td>{'a': 'To maximize the error', 'b': 'To measur...</td>\n",
       "      <td>{'a': 'Linear Regression', 'b': 'Decision Tree...</td>\n",
       "      <td>{'a': 'To remove all features from the dataset...</td>\n",
       "    </tr>\n",
       "    <tr>\n",
       "      <th>correct</th>\n",
       "      <td>b</td>\n",
       "      <td>a</td>\n",
       "      <td>b</td>\n",
       "      <td>c</td>\n",
       "      <td>b</td>\n",
       "    </tr>\n",
       "  </tbody>\n",
       "</table>\n",
       "</div>"
      ],
      "text/plain": [
       "                                                         1  \\\n",
       "mcq               What is the goal of supervised learning?   \n",
       "options  {'a': 'To learn from unlabeled data', 'b': 'To...   \n",
       "correct                                                  b   \n",
       "\n",
       "                                                         2  \\\n",
       "mcq      Which type of supervised learning predicts a c...   \n",
       "options  {'a': 'Regression', 'b': 'Classification', 'c'...   \n",
       "correct                                                  a   \n",
       "\n",
       "                                                         3  \\\n",
       "mcq      What is the function of a loss function in sup...   \n",
       "options  {'a': 'To maximize the error', 'b': 'To measur...   \n",
       "correct                                                  b   \n",
       "\n",
       "                                                         4  \\\n",
       "mcq      Which algorithm is used for binary classificat...   \n",
       "options  {'a': 'Linear Regression', 'b': 'Decision Tree...   \n",
       "correct                                                  c   \n",
       "\n",
       "                                                         5  \n",
       "mcq      What is the purpose of feature engineering in ...  \n",
       "options  {'a': 'To remove all features from the dataset...  \n",
       "correct                                                  b  "
      ]
     },
     "execution_count": 36,
     "metadata": {},
     "output_type": "execute_result"
    }
   ],
   "source": [
    "df = pd.DataFrame(var1)\n",
    "df.head()"
   ]
  },
  {
   "cell_type": "code",
   "execution_count": 33,
   "metadata": {},
   "outputs": [],
   "source": [
    "df.to_csv(\"SupervisedLearningQuiz.csv\",index = False)"
   ]
  },
  {
   "cell_type": "code",
   "execution_count": 34,
   "metadata": {},
   "outputs": [
    {
     "data": {
      "text/plain": [
       "'06_30_2024,01,34,11'"
      ]
     },
     "execution_count": 34,
     "metadata": {},
     "output_type": "execute_result"
    }
   ],
   "source": [
    "from datetime import datetime\n",
    "\n",
    "datetime.now().strftime('%m_%d_%Y,%H,%M,%S')"
   ]
  },
  {
   "cell_type": "code",
   "execution_count": null,
   "metadata": {},
   "outputs": [],
   "source": []
  }
 ],
 "metadata": {
  "kernelspec": {
   "display_name": "mcqgen",
   "language": "python",
   "name": "python3"
  },
  "language_info": {
   "codemirror_mode": {
    "name": "ipython",
    "version": 3
   },
   "file_extension": ".py",
   "mimetype": "text/x-python",
   "name": "python",
   "nbconvert_exporter": "python",
   "pygments_lexer": "ipython3",
   "version": "3.8.19"
  }
 },
 "nbformat": 4,
 "nbformat_minor": 2
}
